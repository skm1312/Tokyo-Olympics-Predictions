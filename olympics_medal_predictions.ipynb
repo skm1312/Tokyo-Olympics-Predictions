{
  "nbformat": 4,
  "nbformat_minor": 0,
  "metadata": {
    "colab": {
      "name": "olympics-medal-predictions.ipynb",
      "provenance": [],
      "collapsed_sections": [],
      "authorship_tag": "ABX9TyNdLsntNWpNiLRo5ifrRMbo",
      "include_colab_link": true
    },
    "kernelspec": {
      "name": "python3",
      "display_name": "Python 3"
    },
    "language_info": {
      "name": "python"
    }
  },
  "cells": [
    {
      "cell_type": "markdown",
      "metadata": {
        "id": "view-in-github",
        "colab_type": "text"
      },
      "source": [
        "<a href=\"https://colab.research.google.com/github/skm1312/Tokyo-Olympics-Predictions/blob/main/olympics_medal_predictions.ipynb\" target=\"_parent\"><img src=\"https://colab.research.google.com/assets/colab-badge.svg\" alt=\"Open In Colab\"/></a>"
      ]
    },
    {
      "cell_type": "code",
      "metadata": {
        "id": "wngwCK_BhO7C"
      },
      "source": [
        "import pandas as pd\n",
        "import numpy as np\n",
        "from sklearn.impute import SimpleImputer\n",
        "from sklearn.preprocessing import LabelEncoder\n",
        "from sklearn.ensemble import RandomForestRegressor"
      ],
      "execution_count": 1,
      "outputs": []
    },
    {
      "cell_type": "code",
      "metadata": {
        "colab": {
          "base_uri": "https://localhost:8080/",
          "height": 204
        },
        "id": "3hsvuADUkjjU",
        "outputId": "8eccbd26-ca1b-4a02-f0e9-fc265cb5973b"
      },
      "source": [
        "df = pd.read_csv('athletes.csv')\n",
        "df.head()"
      ],
      "execution_count": 2,
      "outputs": [
        {
          "output_type": "execute_result",
          "data": {
            "text/html": [
              "<div>\n",
              "<style scoped>\n",
              "    .dataframe tbody tr th:only-of-type {\n",
              "        vertical-align: middle;\n",
              "    }\n",
              "\n",
              "    .dataframe tbody tr th {\n",
              "        vertical-align: top;\n",
              "    }\n",
              "\n",
              "    .dataframe thead th {\n",
              "        text-align: right;\n",
              "    }\n",
              "</style>\n",
              "<table border=\"1\" class=\"dataframe\">\n",
              "  <thead>\n",
              "    <tr style=\"text-align: right;\">\n",
              "      <th></th>\n",
              "      <th>id</th>\n",
              "      <th>name</th>\n",
              "      <th>nationality</th>\n",
              "      <th>sex</th>\n",
              "      <th>dob</th>\n",
              "      <th>height</th>\n",
              "      <th>weight</th>\n",
              "      <th>sport</th>\n",
              "      <th>gold</th>\n",
              "      <th>silver</th>\n",
              "      <th>bronze</th>\n",
              "    </tr>\n",
              "  </thead>\n",
              "  <tbody>\n",
              "    <tr>\n",
              "      <th>0</th>\n",
              "      <td>736041664</td>\n",
              "      <td>A Jesus Garcia</td>\n",
              "      <td>ESP</td>\n",
              "      <td>male</td>\n",
              "      <td>10/17/69</td>\n",
              "      <td>1.72</td>\n",
              "      <td>64.0</td>\n",
              "      <td>athletics</td>\n",
              "      <td>0</td>\n",
              "      <td>0</td>\n",
              "      <td>0</td>\n",
              "    </tr>\n",
              "    <tr>\n",
              "      <th>1</th>\n",
              "      <td>532037425</td>\n",
              "      <td>A Lam Shin</td>\n",
              "      <td>KOR</td>\n",
              "      <td>female</td>\n",
              "      <td>9/23/86</td>\n",
              "      <td>1.68</td>\n",
              "      <td>56.0</td>\n",
              "      <td>fencing</td>\n",
              "      <td>0</td>\n",
              "      <td>0</td>\n",
              "      <td>0</td>\n",
              "    </tr>\n",
              "    <tr>\n",
              "      <th>2</th>\n",
              "      <td>435962603</td>\n",
              "      <td>Aaron Brown</td>\n",
              "      <td>CAN</td>\n",
              "      <td>male</td>\n",
              "      <td>5/27/92</td>\n",
              "      <td>1.98</td>\n",
              "      <td>79.0</td>\n",
              "      <td>athletics</td>\n",
              "      <td>0</td>\n",
              "      <td>0</td>\n",
              "      <td>1</td>\n",
              "    </tr>\n",
              "    <tr>\n",
              "      <th>3</th>\n",
              "      <td>521041435</td>\n",
              "      <td>Aaron Cook</td>\n",
              "      <td>MDA</td>\n",
              "      <td>male</td>\n",
              "      <td>1/2/91</td>\n",
              "      <td>1.83</td>\n",
              "      <td>80.0</td>\n",
              "      <td>taekwondo</td>\n",
              "      <td>0</td>\n",
              "      <td>0</td>\n",
              "      <td>0</td>\n",
              "    </tr>\n",
              "    <tr>\n",
              "      <th>4</th>\n",
              "      <td>33922579</td>\n",
              "      <td>Aaron Gate</td>\n",
              "      <td>NZL</td>\n",
              "      <td>male</td>\n",
              "      <td>11/26/90</td>\n",
              "      <td>1.81</td>\n",
              "      <td>71.0</td>\n",
              "      <td>cycling</td>\n",
              "      <td>0</td>\n",
              "      <td>0</td>\n",
              "      <td>0</td>\n",
              "    </tr>\n",
              "  </tbody>\n",
              "</table>\n",
              "</div>"
            ],
            "text/plain": [
              "          id            name nationality  ... gold silver  bronze\n",
              "0  736041664  A Jesus Garcia         ESP  ...    0      0       0\n",
              "1  532037425      A Lam Shin         KOR  ...    0      0       0\n",
              "2  435962603     Aaron Brown         CAN  ...    0      0       1\n",
              "3  521041435      Aaron Cook         MDA  ...    0      0       0\n",
              "4   33922579      Aaron Gate         NZL  ...    0      0       0\n",
              "\n",
              "[5 rows x 11 columns]"
            ]
          },
          "metadata": {
            "tags": []
          },
          "execution_count": 2
        }
      ]
    },
    {
      "cell_type": "code",
      "metadata": {
        "colab": {
          "base_uri": "https://localhost:8080/",
          "height": 204
        },
        "id": "0Wk04pR-krxj",
        "outputId": "c1dd4a8b-0f73-4246-9121-2401e19587f6"
      },
      "source": [
        "del df['dob'],df['id'],df['name']\n",
        "df.head()"
      ],
      "execution_count": 3,
      "outputs": [
        {
          "output_type": "execute_result",
          "data": {
            "text/html": [
              "<div>\n",
              "<style scoped>\n",
              "    .dataframe tbody tr th:only-of-type {\n",
              "        vertical-align: middle;\n",
              "    }\n",
              "\n",
              "    .dataframe tbody tr th {\n",
              "        vertical-align: top;\n",
              "    }\n",
              "\n",
              "    .dataframe thead th {\n",
              "        text-align: right;\n",
              "    }\n",
              "</style>\n",
              "<table border=\"1\" class=\"dataframe\">\n",
              "  <thead>\n",
              "    <tr style=\"text-align: right;\">\n",
              "      <th></th>\n",
              "      <th>nationality</th>\n",
              "      <th>sex</th>\n",
              "      <th>height</th>\n",
              "      <th>weight</th>\n",
              "      <th>sport</th>\n",
              "      <th>gold</th>\n",
              "      <th>silver</th>\n",
              "      <th>bronze</th>\n",
              "    </tr>\n",
              "  </thead>\n",
              "  <tbody>\n",
              "    <tr>\n",
              "      <th>0</th>\n",
              "      <td>ESP</td>\n",
              "      <td>male</td>\n",
              "      <td>1.72</td>\n",
              "      <td>64.0</td>\n",
              "      <td>athletics</td>\n",
              "      <td>0</td>\n",
              "      <td>0</td>\n",
              "      <td>0</td>\n",
              "    </tr>\n",
              "    <tr>\n",
              "      <th>1</th>\n",
              "      <td>KOR</td>\n",
              "      <td>female</td>\n",
              "      <td>1.68</td>\n",
              "      <td>56.0</td>\n",
              "      <td>fencing</td>\n",
              "      <td>0</td>\n",
              "      <td>0</td>\n",
              "      <td>0</td>\n",
              "    </tr>\n",
              "    <tr>\n",
              "      <th>2</th>\n",
              "      <td>CAN</td>\n",
              "      <td>male</td>\n",
              "      <td>1.98</td>\n",
              "      <td>79.0</td>\n",
              "      <td>athletics</td>\n",
              "      <td>0</td>\n",
              "      <td>0</td>\n",
              "      <td>1</td>\n",
              "    </tr>\n",
              "    <tr>\n",
              "      <th>3</th>\n",
              "      <td>MDA</td>\n",
              "      <td>male</td>\n",
              "      <td>1.83</td>\n",
              "      <td>80.0</td>\n",
              "      <td>taekwondo</td>\n",
              "      <td>0</td>\n",
              "      <td>0</td>\n",
              "      <td>0</td>\n",
              "    </tr>\n",
              "    <tr>\n",
              "      <th>4</th>\n",
              "      <td>NZL</td>\n",
              "      <td>male</td>\n",
              "      <td>1.81</td>\n",
              "      <td>71.0</td>\n",
              "      <td>cycling</td>\n",
              "      <td>0</td>\n",
              "      <td>0</td>\n",
              "      <td>0</td>\n",
              "    </tr>\n",
              "  </tbody>\n",
              "</table>\n",
              "</div>"
            ],
            "text/plain": [
              "  nationality     sex  height  weight      sport  gold  silver  bronze\n",
              "0         ESP    male    1.72    64.0  athletics     0       0       0\n",
              "1         KOR  female    1.68    56.0    fencing     0       0       0\n",
              "2         CAN    male    1.98    79.0  athletics     0       0       1\n",
              "3         MDA    male    1.83    80.0  taekwondo     0       0       0\n",
              "4         NZL    male    1.81    71.0    cycling     0       0       0"
            ]
          },
          "metadata": {
            "tags": []
          },
          "execution_count": 3
        }
      ]
    },
    {
      "cell_type": "code",
      "metadata": {
        "colab": {
          "base_uri": "https://localhost:8080/"
        },
        "id": "4ZY6sXQRkzYW",
        "outputId": "7a95d526-65a8-4f06-d292-eb8148cee663"
      },
      "source": [
        "df['nationality'] = df['nationality'].astype(str)\n",
        "df.isnull().sum()"
      ],
      "execution_count": 4,
      "outputs": [
        {
          "output_type": "execute_result",
          "data": {
            "text/plain": [
              "nationality      0\n",
              "sex              0\n",
              "height         330\n",
              "weight         659\n",
              "sport            0\n",
              "gold             0\n",
              "silver           0\n",
              "bronze           0\n",
              "dtype: int64"
            ]
          },
          "metadata": {
            "tags": []
          },
          "execution_count": 4
        }
      ]
    },
    {
      "cell_type": "code",
      "metadata": {
        "id": "uG-y-yT6k6SM"
      },
      "source": [
        "imputer =SimpleImputer(missing_values=np.nan, strategy= 'mean')\n",
        "imputer.fit(df.iloc[:, 2:4])\n",
        "df.iloc[:,2:4] = imputer.transform(df.iloc[:,2:4])"
      ],
      "execution_count": 5,
      "outputs": []
    },
    {
      "cell_type": "code",
      "metadata": {
        "colab": {
          "base_uri": "https://localhost:8080/"
        },
        "id": "Zg7MX8O4mFiF",
        "outputId": "41845631-1702-4695-f5d1-c008973fb4c7"
      },
      "source": [
        "print(len(df.nationality.unique()))\n",
        "len(df.sport.unique())"
      ],
      "execution_count": 6,
      "outputs": [
        {
          "output_type": "stream",
          "text": [
            "207\n"
          ],
          "name": "stdout"
        },
        {
          "output_type": "execute_result",
          "data": {
            "text/plain": [
              "28"
            ]
          },
          "metadata": {
            "tags": []
          },
          "execution_count": 6
        }
      ]
    },
    {
      "cell_type": "code",
      "metadata": {
        "id": "NmUInFx9mcX6"
      },
      "source": [
        "x = df.iloc[:, 0:5].values.transpose()\n",
        "y = df.iloc[:, [5,6,7]].values"
      ],
      "execution_count": 7,
      "outputs": []
    },
    {
      "cell_type": "code",
      "metadata": {
        "colab": {
          "base_uri": "https://localhost:8080/"
        },
        "id": "yKQ6GGBpm0Pg",
        "outputId": "70fc579a-ceec-4fb8-8ea4-c3c43f2fb947"
      },
      "source": [
        "print(x)"
      ],
      "execution_count": 8,
      "outputs": [
        {
          "output_type": "stream",
          "text": [
            "[['ESP' 'KOR' 'CAN' ... 'CHN' 'VIE' 'RSA']\n",
            " ['male' 'female' 'male' ... 'male' 'male' 'male']\n",
            " [1.72 1.68 1.98 ... 1.85 1.6 1.85]\n",
            " [64.0 56.0 79.0 ... 100.0 56.0 70.0]\n",
            " ['athletics' 'fencing' 'athletics' ... 'wrestling' 'weightlifting'\n",
            "  'athletics']]\n"
          ],
          "name": "stdout"
        }
      ]
    },
    {
      "cell_type": "code",
      "metadata": {
        "colab": {
          "base_uri": "https://localhost:8080/"
        },
        "id": "ckJgxIX0nVqp",
        "outputId": "da15f3a1-6960-4748-f466-04631f7b0a2c"
      },
      "source": [
        "le = LabelEncoder()\n",
        "x[0] = le.fit_transform(x[0])\n",
        "x[4] = le.fit_transform(x[4])\n",
        "x[1] = le.fit_transform(x[1])\n",
        "print(x)"
      ],
      "execution_count": 9,
      "outputs": [
        {
          "output_type": "stream",
          "text": [
            "[[59 102 33 ... 38 202 158]\n",
            " [1 0 1 ... 1 1 1]\n",
            " [1.72 1.68 1.98 ... 1.85 1.6 1.85]\n",
            " [64.0 56.0 79.0 ... 100.0 56.0 70.0]\n",
            " [2 9 2 ... 27 26 2]]\n"
          ],
          "name": "stdout"
        }
      ]
    },
    {
      "cell_type": "code",
      "metadata": {
        "id": "BNoxuvJFnvZx"
      },
      "source": [
        "gender = df['sex'].values\n",
        "nationality = df['nationality'].values\n",
        "sport = df['sport'].values"
      ],
      "execution_count": 10,
      "outputs": []
    },
    {
      "cell_type": "code",
      "metadata": {
        "colab": {
          "base_uri": "https://localhost:8080/"
        },
        "id": "NDt9mGwFofo9",
        "outputId": "9e7332d1-c1a4-4f9e-e915-b807a8e9571b"
      },
      "source": [
        "cat_gen = dict(zip(gender,x[1]))\n",
        "cat_nation = dict(zip(nationality,x[0]))\n",
        "cat_sport = dict(zip(sport,x[4]))\n",
        "print(cat_gen)\n",
        "print(cat_nation)\n",
        "print(cat_sport)\n",
        "full_data = [cat_nation,cat_gen,cat_sport]"
      ],
      "execution_count": 11,
      "outputs": [
        {
          "output_type": "stream",
          "text": [
            "{'male': 1, 'female': 0}\n",
            "{'ESP': 59, 'KOR': 102, 'CAN': 33, 'MDA': 119, 'NZL': 141, 'AUS': 10, 'USA': 198, 'ETH': 61, 'BRN': 27, 'IOA': 86, 'GBR': 68, 'UZB': 199, 'RSA': 158, 'EGY': 56, 'MAR': 116, 'QAT': 155, 'SUD': 175, 'ALG': 2, 'DEN': 51, 'NED': 135, 'DJI': 52, 'SEN': 162, 'CMR': 40, 'ITA': 93, 'NIG': 138, 'SWE': 179, 'GHA': 73, 'AFG': 0, 'AZE': 12, 'KSA': 104, 'BAN': 14, 'NGR': 137, 'RUS': 159, 'IND': 85, 'HUN': 83, 'KAZ': 98, 'BDI': 16, 'ERI': 57, 'POL': 151, 'BRA': 26, 'GEO': 70, 'CZE': 50, 'SEY': 163, 'GAM': 67, 'LTU': 113, 'IRI': 87, 'ROU': 157, 'CUB': 48, 'SLO': 167, 'BAH': 13, 'ARG': 6, 'PUR': 154, 'FRA': 64, 'RWA': 160, 'TOG': 188, 'MDV': 120, 'TUN': 191, 'ISR': 91, 'LAT': 106, 'JOR': 96, 'MAS': 117, 'LIB': 111, 'LBA': 107, 'PLE': 148, 'IRQ': 89, 'TUR': 192, 'VEN': 201, 'JPN': 97, 'TPE': 189, 'KGZ': 100, 'CHN': 38, 'MEX': 121, 'GRE': 74, 'IRL': 88, 'JAM': 95, 'SUI': 176, 'BAR': 15, 'HON': 82, 'ANG': 4, 'GER': 72, 'COL': 43, 'URU': 197, 'MNE': 127, 'SRB': 171, 'BUL': 29, 'FIN': 63, 'UKR': 196, 'BLR': 23, 'SMR': 168, 'COK': 42, 'SAM': 161, 'AUT': 11, 'BEL': 17, 'KEN': 99, 'SVK': 178, 'POR': 152, 'ECU': 55, 'UAE': 194, 'NAM': 133, 'GUY': 79, 'EST': 60, 'SKN': 165, 'ARU': 8, 'PAN': 144, 'PER': 146, 'TAN': 182, 'FIJ': 62, 'GUI': 77, 'NOR': 139, 'ARM': 7, 'THA': 184, 'SIN': 164, 'TKM': 186, 'CRO': 47, 'BIH': 21, 'TGA': 183, 'MAW': 118, 'DOM': 54, 'GUA': 76, 'MKD': 124, 'TJK': 185, 'CYP': 49, 'CHI': 37, 'MLT': 126, 'ZIM': 206, 'TTO': 190, 'CRC': 46, 'BOL': 24, 'BUR': 30, 'ISL': 90, 'HAI': 80, 'ROT': 156, 'MGL': 122, 'MAD': 115, 'GAB': 66, 'SRI': 172, 'LAO': 105, 'MRI': 130, 'PAR': 145, 'IVB': 94, 'GBS': 69, 'TLS': 187, 'MLI': 125, 'SYR': 181, 'BOT': 25, 'CHA': 36, 'OMA': 142, 'COD': 41, 'CIV': 39, 'GEQ': 71, 'UGA': 195, 'GUM': 78, 'ASA': 9, 'ZAM': 205, 'VAN': 200, 'GRN': 75, 'BIZ': 22, 'VIN': 203, 'MON': 128, 'ALB': 1, 'STP': 174, 'SLE': 166, 'BER': 19, 'HKG': 81, 'ISV': 92, 'CGO': 35, 'ANT': 5, 'BEN': 18, 'LUX': 114, 'PHI': 147, 'CAF': 31, 'PRK': 153, 'LIE': 112, 'MHL': 123, 'NCA': 134, 'KIR': 101, 'CPV': 45, 'INA': 84, 'FSM': 65, 'COM': 44, 'PLW': 149, 'MYA': 132, 'NRU': 140, 'LBR': 108, 'ESA': 58, 'AND': 3, 'TUV': 193, 'SUR': 177, 'CAY': 34, 'NEP': 136, 'PAK': 143, 'SSD': 173, 'MTN': 131, 'VIE': 202, 'MOZ': 129, 'LES': 110, 'LCA': 109, 'BRU': 28, 'SOL': 169, 'BHU': 20, 'CAM': 32, 'KOS': 103, 'SOM': 170, 'PNG': 150, 'YEM': 204, 'SWZ': 180, 'DMA': 53}\n",
            "{'athletics': 2, 'fencing': 9, 'taekwondo': 22, 'cycling': 7, 'triathlon': 24, 'volleyball': 25, 'aquatics': 0, 'rugby sevens': 18, 'wrestling': 27, 'football': 10, 'shooting': 20, 'boxing': 5, 'equestrian': 8, 'rowing': 17, 'judo': 15, 'handball': 13, 'badminton': 3, 'hockey': 14, 'modern pentathlon': 16, 'table tennis': 21, 'canoe': 6, 'basketball': 4, 'golf': 11, 'archery': 1, 'weightlifting': 26, 'sailing': 19, 'tennis': 23, 'gymnastics': 12}\n"
          ],
          "name": "stdout"
        }
      ]
    },
    {
      "cell_type": "code",
      "metadata": {
        "colab": {
          "base_uri": "https://localhost:8080/"
        },
        "id": "PCUdL8gDpF_j",
        "outputId": "d457ee58-f3f9-4e2e-97a1-40906a5396e0"
      },
      "source": [
        "x = x.transpose()\n",
        "ranFor = RandomForestRegressor(n_estimators= 245, random_state=40,max_depth=14,min_samples_split=10)\n",
        "ranFor.fit(x,y)"
      ],
      "execution_count": 12,
      "outputs": [
        {
          "output_type": "execute_result",
          "data": {
            "text/plain": [
              "RandomForestRegressor(bootstrap=True, ccp_alpha=0.0, criterion='mse',\n",
              "                      max_depth=14, max_features='auto', max_leaf_nodes=None,\n",
              "                      max_samples=None, min_impurity_decrease=0.0,\n",
              "                      min_impurity_split=None, min_samples_leaf=1,\n",
              "                      min_samples_split=10, min_weight_fraction_leaf=0.0,\n",
              "                      n_estimators=245, n_jobs=None, oob_score=False,\n",
              "                      random_state=40, verbose=0, warm_start=False)"
            ]
          },
          "metadata": {
            "tags": []
          },
          "execution_count": 12
        }
      ]
    },
    {
      "cell_type": "code",
      "metadata": {
        "id": "WUrex7GSvy3i"
      },
      "source": [
        "def inputs_conv(country, gender, height, weight, sport):\n",
        "  cnt = full_data[0].get(country.upper())\n",
        "  gen = full_data[1].get(gender.lower())\n",
        "  spt = full_data[2].get(sport.lower())\n",
        "  hgt = height\n",
        "  wt = weight\n",
        "  list_all =[cnt,gen,hgt,wt,spt]\n",
        "  pred = ranFor.predict([list_all])\n",
        "  \n",
        "  #Gold medal prediction\n",
        "  if pred[0][0]<0.036:\n",
        "    gold = 0\n",
        "  elif pred[0][0]>0.036 and pred[0][0]<0.12:\n",
        "    gold =1\n",
        "  elif pred[0][0]>0.12 and pred[0][0]<0.9:\n",
        "    gold =2\n",
        "  elif pred[0][0]>0.9:\n",
        "    gold ='2+'\n",
        "  \n",
        "  #Silver medal predicition\n",
        "  if pred[0][1]<0.3:\n",
        "    silver = 0\n",
        "  elif pred[0][1]>0.3 and pred[0][1]<0.5:\n",
        "    silver = 1\n",
        "  elif pred[0][1]>0.5:\n",
        "    silver = '1+'\n",
        "  \n",
        "  #Bronze medal prediciton\n",
        "  if pred[0][2]<0.21:\n",
        "    bronze = 0\n",
        "  elif pred[0][2]>0.21 and pred[0][2]<4.5:\n",
        "    bronze =1\n",
        "  elif pred[0][2]>4.5:\n",
        "    bronze ='1+'\n",
        "  \n",
        "  predict = f'Gold : {gold} \\nSilver: {silver}\\nBronze: {bronze}\\n'\n",
        "  return predict"
      ],
      "execution_count": 13,
      "outputs": []
    },
    {
      "cell_type": "code",
      "metadata": {
        "colab": {
          "base_uri": "https://localhost:8080/"
        },
        "id": "tL1qmFHpzWPL",
        "outputId": "05fbdadd-02c2-453a-9922-04794ff975c0"
      },
      "source": [
        "nat = input('Country: ')\n",
        "gend = input('Gender: ')\n",
        "heigh = float(input('Height (in meters): '))\n",
        "weig = float(input('Weight (in kgs): '))\n",
        "spor = input('Sports: ')\n",
        "\n",
        "print(inputs_conv(nat, gend, heigh, weig,spor))"
      ],
      "execution_count": 15,
      "outputs": [
        {
          "output_type": "stream",
          "text": [
            "Country: CAN\n",
            "Gender: female\n",
            "Height (in meters): 1.85\n",
            "Weight (in kgs): 70\n",
            "Sports: aquatics\n",
            "Gold : 2 \n",
            "Silver: 0\n",
            "Bronze: 1\n",
            "\n"
          ],
          "name": "stdout"
        }
      ]
    }
  ]
}